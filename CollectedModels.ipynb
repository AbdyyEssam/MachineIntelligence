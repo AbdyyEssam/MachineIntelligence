{
 "cells": [
  {
   "cell_type": "code",
   "execution_count": 1,
   "id": "73705bb8",
   "metadata": {},
   "outputs": [],
   "source": [
    "import pickle\n",
    "import pandas as pd\n",
    "import numpy as np\n",
    "import os.path\n",
    "import matplotlib.pyplot as plt\n",
    "import seaborn as sns\n",
    "import gc\n",
    "\n",
    "from PIL import Image\n",
    "\n",
    "%matplotlib inline\n",
    "from tensorflow import keras \n",
    "from tensorflow.keras.applications import ResNet50,ResNet101\n",
    "import cv2\n",
    "from tqdm import tqdm\n",
    "from tensorflow.keras.models import Sequential\n",
    "from tensorflow.keras.layers import Dense, Dropout, Flatten\n",
    "from tensorflow.keras.callbacks import EarlyStopping, ModelCheckpoint\n",
    "from tensorflow.keras import backend as K\n",
    "from tensorflow.keras import applications\n",
    "from tensorflow.keras.models import Model\n",
    "from tensorflow.keras import optimizers\n",
    "from tensorflow.keras.utils import to_categorical\n",
    "from tensorflow.keras.preprocessing.image import ImageDataGenerator\n",
    "from tensorflow.keras.callbacks import EarlyStopping\n",
    "from tensorflow.keras.preprocessing import image\n",
    "from tensorflow.keras.models import Model, load_model\n",
    "from tensorflow.keras.layers import Input, Average\n",
    "from sklearn.model_selection import StratifiedKFold , KFold ,RepeatedKFold\n",
    "from sklearn.model_selection import train_test_split\n",
    "from sklearn.preprocessing import LabelEncoder\n",
    "from sklearn.metrics import accuracy_score\n",
    "import numpy as np\n",
    "import pandas as pd\n",
    "from pathlib import Path\n",
    "import os.path\n",
    "\n",
    "import matplotlib.pyplot as plt\n",
    "import seaborn as sns\n",
    "\n",
    "from sklearn.model_selection import train_test_split\n",
    "\n",
    "import tensorflow as tf\n",
    "\n",
    "from sklearn.metrics import confusion_matrix, classification_report"
   ]
  },
  {
   "cell_type": "code",
   "execution_count": 4,
   "id": "b9ce2bc4",
   "metadata": {},
   "outputs": [
    {
     "name": "stdout",
     "output_type": "stream",
     "text": [
      "Metal device set to: Apple M1\n"
     ]
    },
    {
     "name": "stderr",
     "output_type": "stream",
     "text": [
      "2022-12-28 23:21:06.714291: I tensorflow/core/common_runtime/pluggable_device/pluggable_device_factory.cc:305] Could not identify NUMA node of platform GPU ID 0, defaulting to 0. Your kernel may not have been built with NUMA support.\n",
      "2022-12-28 23:21:06.715470: I tensorflow/core/common_runtime/pluggable_device/pluggable_device_factory.cc:271] Created TensorFlow device (/job:localhost/replica:0/task:0/device:GPU:0 with 0 MB memory) -> physical PluggableDevice (device: 0, name: METAL, pci bus id: <undefined>)\n"
     ]
    }
   ],
   "source": [
    "# Load all the trained models from the list\n",
    "with open('kfold_models.pkl', 'rb') as g:\n",
    "  models = pickle.load(g)"
   ]
  },
  {
   "cell_type": "code",
   "execution_count": 5,
   "id": "9dcdd156",
   "metadata": {},
   "outputs": [],
   "source": [
    "# Load all the trained models from the list\n",
    "with open('svcfinal.pkl', 'rb') as g:\n",
    "  modelsvc = pickle.load(g)"
   ]
  },
  {
   "cell_type": "code",
   "execution_count": 10,
   "id": "896c100a",
   "metadata": {},
   "outputs": [
    {
     "ename": "NameError",
     "evalue": "name 'test_images' is not defined",
     "output_type": "error",
     "traceback": [
      "\u001b[0;31m---------------------------------------------------------------------------\u001b[0m",
      "\u001b[0;31mNameError\u001b[0m                                 Traceback (most recent call last)",
      "Cell \u001b[0;32mIn[10], line 2\u001b[0m\n\u001b[1;32m      1\u001b[0m \u001b[38;5;66;03m# Make predictions with each trained model\u001b[39;00m\n\u001b[0;32m----> 2\u001b[0m predictions \u001b[38;5;241m=\u001b[39m [model\u001b[38;5;241m.\u001b[39mpredict(test_images) \u001b[38;5;28;01mfor\u001b[39;00m model \u001b[38;5;129;01min\u001b[39;00m models]\n\u001b[1;32m      5\u001b[0m \u001b[38;5;66;03m#(models[0].predict(test_images))\u001b[39;00m\n\u001b[1;32m      6\u001b[0m \n\u001b[1;32m      7\u001b[0m \u001b[38;5;66;03m# Weighted average of the predictions\u001b[39;00m\n\u001b[1;32m      8\u001b[0m predictioncnn \u001b[38;5;241m=\u001b[39m np\u001b[38;5;241m.\u001b[39maverage(predictions, axis\u001b[38;5;241m=\u001b[39m\u001b[38;5;241m0\u001b[39m)\n",
      "Cell \u001b[0;32mIn[10], line 2\u001b[0m, in \u001b[0;36m<listcomp>\u001b[0;34m(.0)\u001b[0m\n\u001b[1;32m      1\u001b[0m \u001b[38;5;66;03m# Make predictions with each trained model\u001b[39;00m\n\u001b[0;32m----> 2\u001b[0m predictions \u001b[38;5;241m=\u001b[39m [model\u001b[38;5;241m.\u001b[39mpredict(\u001b[43mtest_images\u001b[49m) \u001b[38;5;28;01mfor\u001b[39;00m model \u001b[38;5;129;01min\u001b[39;00m models]\n\u001b[1;32m      5\u001b[0m \u001b[38;5;66;03m#(models[0].predict(test_images))\u001b[39;00m\n\u001b[1;32m      6\u001b[0m \n\u001b[1;32m      7\u001b[0m \u001b[38;5;66;03m# Weighted average of the predictions\u001b[39;00m\n\u001b[1;32m      8\u001b[0m predictioncnn \u001b[38;5;241m=\u001b[39m np\u001b[38;5;241m.\u001b[39maverage(predictions, axis\u001b[38;5;241m=\u001b[39m\u001b[38;5;241m0\u001b[39m)\n",
      "\u001b[0;31mNameError\u001b[0m: name 'test_images' is not defined"
     ]
    }
   ],
   "source": [
    "# Make predictions with each trained model\n",
    "predictions = [model.predict(test_images) for model in models]\n",
    "# Weighted average of the predictions\n",
    "predictioncnn = np.average(predictions, axis=0)"
   ]
  },
  {
   "cell_type": "code",
   "execution_count": 15,
   "id": "5b2aae30",
   "metadata": {},
   "outputs": [
    {
     "data": {
      "text/plain": [
       "array([[0.13450458, 0.86549542]])"
      ]
     },
     "execution_count": 15,
     "metadata": {},
     "output_type": "execute_result"
    }
   ],
   "source": [
    "modelsvc.predict_proba(np.array([ 1.  ,  1.28, 44.  , 21.6 , 22.4 , 34.38, 16.88, 17.5 , 50.91,58.  ,  4.  , 44.5 , 23.13, 21.37, 48.02]).reshape(1, -1))"
   ]
  },
  {
   "cell_type": "code",
   "execution_count": 17,
   "id": "42a3370c",
   "metadata": {},
   "outputs": [
    {
     "data": {
      "text/plain": [
       "array([0, 1])"
      ]
     },
     "execution_count": 17,
     "metadata": {},
     "output_type": "execute_result"
    }
   ],
   "source": [
    "modelsvc.classes_"
   ]
  },
  {
   "cell_type": "code",
   "execution_count": 59,
   "id": "48f008d4",
   "metadata": {},
   "outputs": [],
   "source": [
    "img = image.load_img('/Users/geek/Downloads/img0/0/1120_5.png', target_size=(224, 224))\n",
    "img_data = image.img_to_array(img)\n",
    "img_data = np.expand_dims(img_data, axis=0)\n",
    "img_data = img_data / 255.0\n"
   ]
  },
  {
   "cell_type": "code",
   "execution_count": 60,
   "id": "86736b7e",
   "metadata": {},
   "outputs": [
    {
     "name": "stdout",
     "output_type": "stream",
     "text": [
      "1/1 [==============================] - 0s 90ms/step\n",
      "[[0.00155101]]\n",
      "1/1 [==============================] - 0s 11ms/step\n",
      "[[0.00155101]]\n",
      "1/1 [==============================] - 0s 9ms/step\n",
      "[[0.00155101]]\n",
      "1/1 [==============================] - 0s 9ms/step\n",
      "[[0.00155101]]\n",
      "1/1 [==============================] - 0s 8ms/step\n",
      "[[0.00155101]]\n",
      "1/1 [==============================] - 0s 8ms/step\n",
      "[[0.00155101]]\n",
      "1/1 [==============================] - 0s 9ms/step\n",
      "[[0.00155101]]\n"
     ]
    }
   ],
   "source": [
    "for model in models:\n",
    "    print(model.predict(img_data))"
   ]
  },
  {
   "cell_type": "code",
   "execution_count": 77,
   "id": "89ce467c",
   "metadata": {},
   "outputs": [],
   "source": [
    "img = image.load_img('/Users/geek/Downloads/Myxoma_CMR.png', target_size=(224, 224))\n",
    "img_data = image.img_to_array(img)\n",
    "img_data = np.expand_dims(img_data, axis=0)\n",
    "img_data = img_data / 255.0\n"
   ]
  },
  {
   "cell_type": "code",
   "execution_count": 78,
   "id": "a549979b",
   "metadata": {
    "scrolled": true
   },
   "outputs": [
    {
     "name": "stdout",
     "output_type": "stream",
     "text": [
      "1/1 [==============================] - 0s 83ms/step\n",
      "[[1.6327358e-05]]\n",
      "1/1 [==============================] - 0s 7ms/step\n",
      "[[1.6327358e-05]]\n",
      "1/1 [==============================] - 0s 8ms/step\n",
      "[[1.6327358e-05]]\n",
      "1/1 [==============================] - 0s 8ms/step\n",
      "[[1.6327358e-05]]\n",
      "1/1 [==============================] - 0s 9ms/step\n",
      "[[1.6327358e-05]]\n",
      "1/1 [==============================] - 0s 8ms/step\n",
      "[[1.6327358e-05]]\n",
      "1/1 [==============================] - 0s 8ms/step\n",
      "[[1.6327358e-05]]\n"
     ]
    }
   ],
   "source": [
    "for model in models:\n",
    "    print(model.predict(img_data))"
   ]
  },
  {
   "cell_type": "code",
   "execution_count": 79,
   "id": "ec75b976",
   "metadata": {},
   "outputs": [
    {
     "name": "stdout",
     "output_type": "stream",
     "text": [
      "1/1 [==============================] - 0s 17ms/step\n",
      "1/1 [==============================] - 0s 12ms/step\n",
      "1/1 [==============================] - 0s 8ms/step\n",
      "1/1 [==============================] - 0s 9ms/step\n",
      "1/1 [==============================] - 0s 8ms/step\n",
      "1/1 [==============================] - 0s 8ms/step\n",
      "1/1 [==============================] - 0s 9ms/step\n"
     ]
    }
   ],
   "source": [
    "# Make predictions with each trained model\n",
    "predictions = [model.predict(img_data) for model in models]\n",
    "# Weighted average of the predictions\n",
    "predictioncnn = np.average(predictions, axis=0)\n"
   ]
  },
  {
   "cell_type": "code",
   "execution_count": 116,
   "id": "bcd82e81",
   "metadata": {},
   "outputs": [],
   "source": [
    "#predictioncnn\n",
    "#svcprediction"
   ]
  },
  {
   "cell_type": "code",
   "execution_count": 124,
   "id": "85f6a2b7",
   "metadata": {},
   "outputs": [
    {
     "name": "stdout",
     "output_type": "stream",
     "text": [
      "According to averaged predictions , We need further analysis\n"
     ]
    }
   ],
   "source": [
    "if ((predictioncnn[0][0]+modelsvc.predict_proba(np.array([ 1.  ,  1.28, 44.  , 21.6 , 22.4 , 34.38, 16.88, 17.5 , 50.91,58.  ,  4.  , 44.5 , 23.13, 21.37, 48.02]).reshape(1, -1))[0][1])/2) >0.4 and ((predictioncnn[0][0]+modelsvc.predict_proba(np.array([ 1.  ,  1.28, 44.  , 21.6 , 22.4 , 34.38, 16.88, 17.5 , 50.91,58.  ,  4.  , 44.5 , 23.13, 21.37, 48.02]).reshape(1, -1))[0][1])/2) <0.6:\n",
    "    print(\"According to averaged predictions , We need further analysis\")\n",
    "elif ((predictioncnn[0][0]+modelsvc.predict_proba(np.array([ 1.  ,  1.28, 44.  , 21.6 , 22.4 , 34.38, 16.88, 17.5 , 50.91,58.  ,  4.  , 44.5 , 23.13, 21.37, 48.02]).reshape(1, -1))[0][1])/2) >=0.6:\n",
    "    print(\"According to averaged predictions of your inputs , There is thalassemia lead to iron overload\")\n",
    "else:\n",
    "    print(\"According to averaged predictions of your inputs , There is no thalassemia\")"
   ]
  },
  {
   "cell_type": "code",
   "execution_count": 113,
   "id": "9bd18948",
   "metadata": {},
   "outputs": [
    {
     "data": {
      "text/plain": [
       "0.8654954183538887"
      ]
     },
     "execution_count": 113,
     "metadata": {},
     "output_type": "execute_result"
    }
   ],
   "source": [
    "modelsvc.predict_proba(np.array([ 1.  ,  1.28, 44.  , 21.6 , 22.4 , 34.38, 16.88, 17.5 , 50.91,58.  ,  4.  , 44.5 , 23.13, 21.37, 48.02]).reshape(1, -1))[0][1]"
   ]
  },
  {
   "cell_type": "code",
   "execution_count": null,
   "id": "1b5bb864",
   "metadata": {},
   "outputs": [],
   "source": []
  }
 ],
 "metadata": {
  "kernelspec": {
   "display_name": "Python 3 (ipykernel)",
   "language": "python",
   "name": "python3"
  },
  "language_info": {
   "codemirror_mode": {
    "name": "ipython",
    "version": 3
   },
   "file_extension": ".py",
   "mimetype": "text/x-python",
   "name": "python",
   "nbconvert_exporter": "python",
   "pygments_lexer": "ipython3",
   "version": "3.8.15"
  }
 },
 "nbformat": 4,
 "nbformat_minor": 5
}
